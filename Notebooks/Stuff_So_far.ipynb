{
 "cells": [
  {
   "cell_type": "markdown",
   "metadata": {},
   "source": [
    "# Stuff so far"
   ]
  },
  {
   "cell_type": "markdown",
   "metadata": {},
   "source": [
    "## Introduction to the process of creating LLMs different types and what they are"
   ]
  },
  {
   "cell_type": "markdown",
   "metadata": {},
   "source": [
    "* Supervised and Unsupervised:\n",
    "![Supervised_and_Unsupervised](../pictures/ML_algorithms_types.png)\n",
    "\n",
    "* Different algorithms: \n",
    "\n",
    "![Cool_pic](../pictures/MachineLearningAlgorithmsMiniMap.png)"
   ]
  },
  {
   "cell_type": "markdown",
   "metadata": {},
   "source": [
    "## Installing Python"
   ]
  },
  {
   "cell_type": "markdown",
   "metadata": {},
   "source": [
    "* [Click here](https://www.python.org/)  \n",
    "It looks like this: \n",
    "\n",
    "![Something like this](../pictures/Pyhton_Windows_AddToPath.png)"
   ]
  },
  {
   "cell_type": "markdown",
   "metadata": {},
   "source": [
    "## Installing VSCode\n",
    "\n",
    "* [Click here](https://code.visualstudio.com/download)"
   ]
  },
  {
   "cell_type": "markdown",
   "metadata": {},
   "source": [
    "## Git and gitbash setting up"
   ]
  },
  {
   "cell_type": "markdown",
   "metadata": {},
   "source": [
    "* Installation of git and git bash is simple [click here](https://git-scm.com/download/win) and install.\n",
    "> * Setting it up is slightly more complex \n",
    "    >> 1. Open cmd and type 2 commands:  \n",
    "                                        git config --global user.name \"Your User Name\"  \n",
    "                                        git config --global user.email \"Your Email\"\n",
    "\n",
    "![Eg](../pictures/git-config.png)"
   ]
  },
  {
   "cell_type": "markdown",
   "metadata": {},
   "source": [
    "* Introduction to cmd and how to use it with different commands."
   ]
  },
  {
   "cell_type": "markdown",
   "metadata": {},
   "source": [
    "## Github setting up"
   ]
  },
  {
   "cell_type": "markdown",
   "metadata": {},
   "source": [
    "1. Creat an account [here](https://github.com/).\n",
    "2. Make a repository"
   ]
  },
  {
   "cell_type": "markdown",
   "metadata": {},
   "source": [
    "## Creating dir/sub forlders"
   ]
  },
  {
   "cell_type": "markdown",
   "metadata": {},
   "source": [
    "* Something like this is the standard:\n",
    "\n",
    "![FolderFormat](../pictures/FolderFormat.png)\n",
    "\n",
    "* And then for sub-folders something like this: \n",
    "\n",
    "![FolderFormat2](../pictures/FolderFormat2.png)"
   ]
  },
  {
   "cell_type": "markdown",
   "metadata": {},
   "source": [
    "## Creating and Activating venv for Python\n"
   ]
  },
  {
   "cell_type": "markdown",
   "metadata": {},
   "source": [
    "![.venvStuff](../pictures/Venv_Creation_and_Activation.png)"
   ]
  },
  {
   "cell_type": "markdown",
   "metadata": {},
   "source": [
    "## Installing pip and extentions/requirements/libraries for Python"
   ]
  },
  {
   "cell_type": "markdown",
   "metadata": {},
   "source": [
    "1. Open cmd and type:\n",
    "\n",
    "![pip_install](../pictures/pip_install.png)"
   ]
  },
  {
   "cell_type": "markdown",
   "metadata": {},
   "source": [
    "2. Open cmd from the folder that the venv is in or move to the directory with **cd** command.  \n",
    "\n",
    "    * Activate the venv with the command: \"tittle of the venv\"\\Scripts\\activate\n",
    "\n",
    "3. Once you have activated the venv install the requirements like this:\n",
    "    \n",
    "    ![pip_requirements](../pictures/pip_requirements.png) \n",
    "\n",
    "\n"
   ]
  },
  {
   "cell_type": "markdown",
   "metadata": {},
   "source": [
    "## Working with pip"
   ]
  },
  {
   "cell_type": "markdown",
   "metadata": {},
   "source": [
    "* this is still in the active .venv\n",
    "\n",
    "![pip_freeze](../pictures/pip_freeze.png)\n",
    "\n",
    "Saves a list of the installed extentions in a txt file\n",
    "\n",
    "* To install that list you use this command:\n",
    "\n",
    "![pip_install_req](../pictures/pip_install_req.png)"
   ]
  },
  {
   "cell_type": "markdown",
   "metadata": {},
   "source": [
    "* Other usefull commands you can get here:\n",
    "[pip commands](https://pip.pypa.io/en/stable/cli/)"
   ]
  },
  {
   "cell_type": "markdown",
   "metadata": {},
   "source": [
    "## Working with .ipynb format in different environments"
   ]
  },
  {
   "cell_type": "markdown",
   "metadata": {},
   "source": [
    "* .ipynb stands for Interactive Python Notebook"
   ]
  },
  {
   "cell_type": "markdown",
   "metadata": {},
   "source": [
    "* There are different ways to edit them and it all depends on what does the company that you work for want to use. Here are some of them: \n",
    "1. [Jupyterlab](https://jupyter.org/)\n",
    "2. VSCode with the extention for jupyterlab\n",
    "3. [GoogleColab](https://colab.research.google.com/)"
   ]
  },
  {
   "cell_type": "markdown",
   "metadata": {},
   "source": [
    "## Universal commands for all of them"
   ]
  },
  {
   "cell_type": "markdown",
   "metadata": {},
   "source": [
    "![commands_for_ipynb_files](../pictures/commands_for_ipynb_files.png)"
   ]
  },
  {
   "cell_type": "markdown",
   "metadata": {},
   "source": [
    "## Working with Jupyter-lab"
   ]
  },
  {
   "cell_type": "markdown",
   "metadata": {},
   "source": [
    "1. Initialize jupyter in the venv:\n",
    "\n",
    "![Initializing jupyterlab](../pictures/Initialize_Jlab.png)\n",
    "\n",
    "2. It looks like this:\n",
    "\n",
    "![Gui of jupyter-lab](../pictures/working_with_Jlab.png) "
   ]
  },
  {
   "cell_type": "markdown",
   "metadata": {},
   "source": [
    "## Working with VSCode"
   ]
  },
  {
   "cell_type": "markdown",
   "metadata": {},
   "source": [
    "1. Click the shortcut\n",
    "2. Open directory of .venv\n",
    "3. Initialize a repository if not already\n",
    "4. This is how it looks:\n",
    "\n",
    "![working_with_VSCode](../pictures/GUI_of_VSCode.png)\n",
    "\n",
    "5. Work on code\n",
    "6. Commit to Github or whatever the company is using\n",
    "7. CTRL+SHIFT+B is custom shortcut for running a .py file\n"
   ]
  },
  {
   "cell_type": "markdown",
   "metadata": {},
   "source": [
    "## Working with GoogleColab"
   ]
  },
  {
   "cell_type": "markdown",
   "metadata": {},
   "source": [
    "* If you use this. Google can see everything that you are doing on it because it's online but if you have the paid version then you are using their warehouses and it's good for heavy duty stuff."
   ]
  },
  {
   "cell_type": "markdown",
   "metadata": {},
   "source": [
    "* If you **are** using heavy computing stuff you have to use this if you don't have warehouses filled with pcs."
   ]
  },
  {
   "cell_type": "markdown",
   "metadata": {},
   "source": [
    "* Easy to upload to googledrive."
   ]
  },
  {
   "cell_type": "markdown",
   "metadata": {},
   "source": [
    "## Presentation"
   ]
  },
  {
   "cell_type": "markdown",
   "metadata": {},
   "source": [
    "* There are several ways to present:\n",
    "    1. Can open a link to the github page of the notebook. Github does a decent job of interpreting it.\n",
    "    2. Can open it through [nbviewer](https://nbviewer.org/) by pasting the github url of the file in the text box\n",
    "    3. [Binder](https://mybinder.org/)\n",
    "    4. Can make it in to HTML, PDF, etc from jupyter-lab. "
   ]
  }
 ],
 "metadata": {
  "kernelspec": {
   "display_name": "Python 3 (ipykernel)",
   "language": "python",
   "name": "python3"
  },
  "language_info": {
   "codemirror_mode": {
    "name": "ipython",
    "version": 3
   },
   "file_extension": ".py",
   "mimetype": "text/x-python",
   "name": "python",
   "nbconvert_exporter": "python",
   "pygments_lexer": "ipython3",
   "version": "3.12.2"
  }
 },
 "nbformat": 4,
 "nbformat_minor": 4
}
